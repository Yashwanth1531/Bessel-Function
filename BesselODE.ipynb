{
  "nbformat": 4,
  "nbformat_minor": 0,
  "metadata": {
    "colab": {
      "provenance": [],
      "include_colab_link": true
    },
    "kernelspec": {
      "name": "python3",
      "display_name": "Python 3"
    },
    "language_info": {
      "name": "python"
    }
  },
  "cells": [
    {
      "cell_type": "markdown",
      "metadata": {
        "id": "view-in-github",
        "colab_type": "text"
      },
      "source": [
        "<a href=\"https://colab.research.google.com/github/Yashwanth1531/Bessel-Function/blob/main/BesselODE.ipynb\" target=\"_parent\"><img src=\"https://colab.research.google.com/assets/colab-badge.svg\" alt=\"Open In Colab\"/></a>"
      ]
    },
    {
      "cell_type": "code",
      "execution_count": null,
      "metadata": {
        "id": "n3WdwpcVXeiJ"
      },
      "outputs": [],
      "source": [
        "import scipy.special as s\n",
        "import numpy as np\n",
        "import pandas as pd\n",
        "import matplotlib.pyplot as plt\n",
        "import math \n",
        "import cmath\n",
        "from mpl_toolkits.mplot3d import Axes3D\n",
        "#import slider package\n",
        "\n",
        "#from google.colab import drive\n",
        "#drive.mount('drive')"
      ]
    },
    {
      "cell_type": "code",
      "source": [
        "#@title Variables and Parameters\n",
        "\n",
        "#Values for r_0(radius of motor housing/shaft), heat generated(q) were taken for a motor problem\n",
        "\n",
        "bi      = 3                      #Biot Number\n",
        "kappa   = 52                     #Thermal Conductivity(cast iron housing)\n",
        "alp     = 1.7025e-5              #Thermal Diffusivity\n",
        "\n",
        "r_0     = 0.2                    #Max radius\n",
        "\n",
        "q       = 7e4                   #Heat generated/vol\n",
        "Ti      = 30                    #Initial temp\n",
        "Tinf    = 25                    #Ambient temp\n",
        "delT    = Ti-Tinf\n",
        "\n",
        "k_val   =  32                  #Bessel summation terms\n",
        "step    = 0.0001                    #Radius steps\n",
        "\n",
        "\n",
        "#b=complex(0,1)\n",
        "#print(b)"
      ],
      "metadata": {
        "id": "wVKFNxNUmajG"
      },
      "execution_count": null,
      "outputs": []
    },
    {
      "cell_type": "code",
      "source": [
        "#@title Bessel Fun zeroth & first order: (Jo,J1)\n",
        "def J0(x2):\n",
        "  bsf1=s.jv(0,x2)\n",
        "  return(bsf1)\n",
        "\n",
        "def J1(x3):\n",
        "  bsf2=s.jv(1,x3)\n",
        "  return(bsf2)"
      ],
      "metadata": {
        "id": "46BC1mfPsyrx"
      },
      "execution_count": null,
      "outputs": []
    },
    {
      "cell_type": "code",
      "source": [
        "#@title Eigen Values for different Bi\n",
        "\n",
        "\n",
        "# sflam = pd.read_csv('/content/drive/MyDrive/Colab Notebooks/Math Codes/Copy of Sorted_Filtered.csv')  \n",
        "# # slam  = pd.read_csv('/content/drive/MyDrive/Colab Notebooks/Math Codes/Copy of Sorted.csv')\n",
        "\n",
        "# # lam = (slam.to_numpy())/r_0\n",
        "\n",
        "# lam = (sflam.to_numpy())/r_0\n",
        "# print(type(lam))\n",
        "\n",
        "\n",
        "\n",
        "\n",
        "##Bi=1##lam = np.array([1.2557837117946,4.0794777108393,7.1557991746440,10.2709853620793,13.3983974864138,16.5311589326050,19.6667277887128,22.8039505186316,25.9422288398533,29.0812217718691,32.2207208280665,35.3605913932645,38.5007426824640,41.6411112516383,44.7816514290601,47.9223295014823,51.0631200414536,54.2040035097965,57.3449646447644,60.4859913524936,63.6270739257397,66.7682044829213,69.9093765582564,73.0505847975588,76.1918247292276,79.3330925896073,82.4743851882334,85.6156998027256,88.7570340959897,91.8983860503923,95.0397539149845,98.1811361628517,101.3225314563960])/r_0\n",
        "\n",
        "\n",
        "\n",
        "\n",
        " \n",
        "##Bi=3##\n",
        "lam=np.array([1.7886571741034556,4.463371687062525,7.4102697979339265,10.456598813134065,13.543437687744268,16.64985349628233,19.76705067826938,22.890769808457094,26.018720007267877,29.149565359078395,32.282476442581064,35.4169119388982,38.55250391155869,41.68899371534701,44.8261943125047,47.96396714328303, 51.10220740390041, 54.24083572371715, 57.37978487437271, 60.51900923024971, 63.65846576441509, 66.79812391906279, 69.9379538599341, 73.0779357679667, 76.2180501858754, 79.35828141633321, 82.49861655165894, 85.63904303340324, 88.77955228353834, 91.92013548861861, 95.06078532695017, 98.2014954147345, 104.48307463211063])/r_0\n",
        "\n",
        "\n",
        "\n",
        "##Bi=9##lam =np.array([-35.58090661205443, -4.989702929078122, 2.1566066121933813, 4.9897029300394, 7.905056881017777, 10.884181645933715, 13.909031412603078, 16.965035283739006, 20.042197057682266, 23.13399114079144, 26.23616268384973, 29.34588824710337, 32.46124870328023, 35.58090658903461, 38.703907193201005, 41.829553768393104, 44.95732749639535, 48.08683498151535, 51.217773019480305, 54.34990441005031, 57.48304118739001, 60.61703252105408, 63.75175608456559, 66.88711166918512, 70.0230164357018, 73.1594013402616, 76.29620834660287, 79.43338841419276, 82.5708997489792, 85.70870655543673, 88.84677799601506, 91.98508736123622, 95.1236114103184, 98.26232982154872])/r_0\n",
        "\n",
        "\n",
        "\n",
        "print(lam.size)"
      ],
      "metadata": {
        "colab": {
          "base_uri": "https://localhost:8080/"
        },
        "id": "4yWx76sKiMSX",
        "outputId": "dff5fbba-b943-4fda-bfea-790a5271d19b"
      },
      "execution_count": null,
      "outputs": [
        {
          "output_type": "stream",
          "name": "stdout",
          "text": [
            "33\n"
          ]
        }
      ]
    },
    {
      "cell_type": "code",
      "source": [
        "a=np.zeros(k_val+1)\n",
        "\n",
        "for i in range(0,k_val+1,1):\n",
        "\n",
        "\n",
        "\n",
        "  a[i]= (2*lam[i]*r_0)*(delT)*  (  ((bi**2+(lam[i]*r_0)**2)*(J0(lam[i]*r_0))**2)**(-1)   )  * ( (1-(q*r_0**2)*( (0.5/bi)+(1/(lam[i]*r_0))**2 )*(kappa*delT)**(-1)) *(J1(lam[i]*r_0))   +    ( ( q*r_0**2*J0(lam[i]*r_0) )*( kappa*(delT)*lam[i]*r_0)**(-1) ))\n",
        "\n",
        "\n",
        "\n",
        "\n",
        "\n",
        "\n",
        "print(len(a))"
      ],
      "metadata": {
        "colab": {
          "base_uri": "https://localhost:8080/"
        },
        "id": "0LvZIGISUw3r",
        "outputId": "ca0b1822-e67b-4005-9d91-aa8833a3c0f9"
      },
      "execution_count": null,
      "outputs": [
        {
          "output_type": "stream",
          "name": "stdout",
          "text": [
            "33\n"
          ]
        }
      ]
    },
    {
      "cell_type": "code",
      "source": [
        "#@title Unstedy Sol Fun: (unSol)\n",
        "def unSol(r,t):\n",
        "  asum1=0\n",
        "  asum=0\n",
        "  for k in range(0,k_val+1,1):\n",
        "    asum1= a[k] * (  math.exp(-(lam[k])**2   *alp*t)  )  *  J0( lam[k] * r )\n",
        "    asum=asum+asum1\n",
        "  return(asum)\n"
      ],
      "metadata": {
        "id": "gtY_bFudaree"
      },
      "execution_count": null,
      "outputs": []
    },
    {
      "cell_type": "code",
      "source": [
        "# #@title Computing Theta(r, at certain time)\n",
        "\n",
        "# theta=np.ones(int(r_0/step)+1)\n",
        "# theta1=0\n",
        "# i=0\n",
        "# r=0\n",
        "# while(r<=r_0):\n",
        "#   theta1 =  q*r_0**2*(4*kappa*delT)**(-1)*( 1-(r/r_0)**2+(2/bi) )  +  unSol(r,t)*(delT**(-1))\n",
        "#   theta[i]=(theta1)\n",
        "#   r=r+step\n",
        "#   i=i+1"
      ],
      "metadata": {
        "id": "znFA5WW2ttYb"
      },
      "execution_count": null,
      "outputs": []
    },
    {
      "cell_type": "code",
      "source": [
        "# ppp=np.zeros(int(r_0/step)+1)\n",
        "# lll=0\n",
        "# r=0\n",
        "# i=0\n",
        "# while(r<=r_0):\n",
        "#   lll = q*r_0**2*(4*kappa*delT)**(-1)*( 1-(r/r_0)**2+(2/bi) )\n",
        "#   ppp[i]=lll\n",
        "#   r=r+step\n",
        "#   i=i+1"
      ],
      "metadata": {
        "id": "aa-hDm2_g-nK"
      },
      "execution_count": null,
      "outputs": []
    },
    {
      "cell_type": "code",
      "source": [
        "\n",
        "# kkk=np.zeros(int(r_0/step)+1)\n",
        "# jjj=0\n",
        "# r=0\n",
        "# i=0\n",
        "# while(r<=r_0):\n",
        "#   jjj = unSol(r,t)*(delT**(-1))\n",
        "#   kkk[i]=jjj\n",
        "#   r=r+step\n",
        "#   i=i+1"
      ],
      "metadata": {
        "id": "6aqjWaacfMOy"
      },
      "execution_count": null,
      "outputs": []
    },
    {
      "cell_type": "code",
      "source": [
        "#theta= q*r_0*r_0*(4*kappa*delT)**(-1)*(1-(r/r_0)**2+(2/bi))  +  unSol(r,t)*(delT**(-1))"
      ],
      "metadata": {
        "id": "B7QYvUnph14e"
      },
      "execution_count": null,
      "outputs": []
    },
    {
      "cell_type": "code",
      "source": [
        "radius=np.linspace(0,r_0,int(r_0/step)+1)\n",
        "print(radius.size)"
      ],
      "metadata": {
        "colab": {
          "base_uri": "https://localhost:8080/"
        },
        "id": "1bCzbJ-TNMFa",
        "outputId": "fd512078-5a8e-4bae-f4ba-fd9748284370"
      },
      "execution_count": null,
      "outputs": [
        {
          "output_type": "stream",
          "name": "stdout",
          "text": [
            "2001\n"
          ]
        }
      ]
    },
    {
      "cell_type": "code",
      "source": [
        "#@title Export as CSV\n",
        "\n",
        "#data.to_csv('3Theta_r_at_50s.csv')\n",
        "#!cp 3Theta_r_at_50s.csv \"/content/drive/MyDrive/Colab Notebooks/Bessel\""
      ],
      "metadata": {
        "id": "rmfuFH6xNVEb"
      },
      "execution_count": null,
      "outputs": []
    },
    {
      "cell_type": "code",
      "source": [
        "# #@title Data Frame\n",
        "\n",
        "# data1={\"Theta(r)\":theta,\"Steady\":ppp,\"Unsteady\":kkk}\n",
        "# data=pd.DataFrame(data1, index=radius)\n",
        "# print(\"At given time t =\",t)\n",
        "# print()\n",
        "# print(data)"
      ],
      "metadata": {
        "id": "JhdKoMoGxBrS"
      },
      "execution_count": null,
      "outputs": []
    },
    {
      "cell_type": "code",
      "source": [
        "# plt.figure(figsize=(15,7))\n",
        "# plt.plot(radius,ppp,label='Steady')\n",
        "# plt.plot(radius,kkk,label='Unsteady')\n",
        "# plt.plot(radius,theta,label='Full')\n",
        "# plt.title(\"Unsteady & Steady v/s Radius:\")\n",
        "# plt.legend()\n",
        "# print(\"Time:\",t)\n",
        "# plt.xlabel(\"Radius\")\n",
        "# plt.ylabel(\"Sols\")\n",
        "# plt.xlim(1,r_0)\n",
        "# plt.show()"
      ],
      "metadata": {
        "id": "lA2YHQP3h7Xx"
      },
      "execution_count": null,
      "outputs": []
    },
    {
      "cell_type": "code",
      "source": [
        "# #@title Theta v/s Radius\n",
        "\n",
        "# plt.figure(figsize=(10,5))\n",
        "# plt.plot(radius,theta)\n",
        "# plt.title(\"Theta v/s Radius:\")\n",
        "# print(\"Time:\",t)\n",
        "# plt.xlabel(\"Radius\")\n",
        "# plt.ylabel(\"Theta\")\n",
        "# plt.xlim(1,r_0)\n",
        "# plt.show()"
      ],
      "metadata": {
        "id": "bjfzlMb6tQmr"
      },
      "execution_count": null,
      "outputs": []
    },
    {
      "cell_type": "code",
      "source": [
        "#@title Computing for all time\n",
        "\n",
        "tmax  = 600\n",
        "tstep = 10\n",
        "theta3=np.ones((int(r_0/step)+1,int(tmax/tstep)+1))\n",
        "t5=0\n",
        "t1=0\n",
        "r1=0\n",
        "while(t5<=tmax):\n",
        "  r=0\n",
        "  r1=0\n",
        "  while(r<=r_0):\n",
        "    theta3[r1,t1]= q*r_0**2*(4*kappa*delT)**(-1)*( 1-(r/r_0)**2+(2/bi) )  +  unSol(r,t5)*(delT**(-1))\n",
        "    r=r+step\n",
        "    r1=r1+1\n",
        "  theta3[:,0]=1\n",
        "  t5=t5+tstep\n",
        "  t1=t1+1\n",
        "\n",
        "print(r1,t1)\n",
        "#print(theta3)"
      ],
      "metadata": {
        "id": "AGQP3YAac-GO",
        "colab": {
          "base_uri": "https://localhost:8080/"
        },
        "outputId": "dd08acab-5cce-406a-8744-470f020ae85b"
      },
      "execution_count": null,
      "outputs": [
        {
          "output_type": "stream",
          "name": "stdout",
          "text": [
            "2001 61\n"
          ]
        }
      ]
    },
    {
      "cell_type": "code",
      "source": [
        "\n",
        "# var1=np.ones((int(r_0/step)+1,int(tmax/tstep)+1))\n",
        "\n",
        "# t5=0\n",
        "# t1=0\n",
        "# r1=0\n",
        "# while(t5<=tmax):\n",
        "#   r=0\n",
        "#   r1=0\n",
        "#   while(r<=r_0):\n",
        "#     for k in range(0,k_val+1,1):\n",
        "#       var1[r,t5]=    (  math.exp(-(lam[k])**2   *alp*t5)  )       \n",
        "#     r=r+step\n",
        "#     r1=r1+1\n",
        "#   t5=t5+tstep\n",
        "#   t1=t1+1\n",
        "\n",
        "\n",
        "# print(var1.size)"
      ],
      "metadata": {
        "id": "pH15lPmSpjZ7"
      },
      "execution_count": null,
      "outputs": []
    },
    {
      "cell_type": "code",
      "source": [
        "# var2=np.zeros((int(r_0/step)+1))\n",
        "# r=0\n",
        "# r1=0\n",
        "# while(r<=r_0):\n",
        "#   for k in range(0,k_val+1,1):\n",
        "#     var2[r]=  J0( lam[k] * r )    \n",
        "#   r=r+step\n",
        "#   r1=r1+1"
      ],
      "metadata": {
        "id": "gKa0dzvVsPGr"
      },
      "execution_count": null,
      "outputs": []
    },
    {
      "cell_type": "code",
      "source": [
        "time=np.linspace(0,tmax,int(tmax/tstep)+1)\n",
        "print(time.shape)"
      ],
      "metadata": {
        "id": "24WO_p5i_KyT",
        "colab": {
          "base_uri": "https://localhost:8080/"
        },
        "outputId": "cb2446ad-7cfb-4a5c-dda2-b78b8ac82b4e"
      },
      "execution_count": null,
      "outputs": [
        {
          "output_type": "stream",
          "name": "stdout",
          "text": [
            "(61,)\n"
          ]
        }
      ]
    },
    {
      "cell_type": "code",
      "source": [
        "fordata=pd.DataFrame(theta3,columns=time)\n",
        "print(fordata)"
      ],
      "metadata": {
        "colab": {
          "base_uri": "https://localhost:8080/"
        },
        "id": "bEyqq0c8FehZ",
        "outputId": "bf49dd54-e3c8-4265-a1a3-46eaaf07d26c"
      },
      "execution_count": null,
      "outputs": [
        {
          "output_type": "stream",
          "name": "stdout",
          "text": [
            "      0.0       10.0      20.0      30.0      40.0      50.0      60.0   \\\n",
            "0       1.0  2.840708  2.886545  2.932381  2.978218  3.024050  3.069851   \n",
            "1       1.0  2.840708  2.886545  2.932381  2.978218  3.024050  3.069851   \n",
            "2       1.0  2.840708  2.886545  2.932381  2.978218  3.024050  3.069851   \n",
            "3       1.0  2.840708  2.886545  2.932381  2.978218  3.024050  3.069851   \n",
            "4       1.0  2.840708  2.886545  2.932381  2.978218  3.024050  3.069851   \n",
            "...     ...       ...       ...       ...       ...       ...       ...   \n",
            "1996    1.0  2.310231  2.161081  2.065115  1.995186  1.941072  1.897666   \n",
            "1997    1.0  2.306830  2.157886  2.062056  1.992228  1.938192  1.894849   \n",
            "1998    1.0  2.303417  2.154683  2.058992  1.989265  1.935308  1.892028   \n",
            "1999    1.0  2.299991  2.151473  2.055921  1.986297  1.932420  1.889204   \n",
            "2000    1.0  2.296552  2.148254  2.052845  1.983324  1.929528  1.886376   \n",
            "\n",
            "         70.0      80.0      90.0   ...     510.0     520.0     530.0  \\\n",
            "0     3.115545  3.160984  3.205959  ...  4.063554  4.070559  4.077365   \n",
            "1     3.115545  3.160984  3.205958  ...  4.063554  4.070558  4.077365   \n",
            "2     3.115545  3.160983  3.205958  ...  4.063552  4.070557  4.077363   \n",
            "3     3.115545  3.160983  3.205958  ...  4.063549  4.070554  4.077360   \n",
            "4     3.115545  3.160983  3.205958  ...  4.063545  4.070550  4.077356   \n",
            "...        ...       ...       ...  ...       ...       ...       ...   \n",
            "1996  1.862009  1.832221  1.807026  ...  1.670725  1.672127  1.673544   \n",
            "1997  1.859244  1.829499  1.804341  ...  1.668238  1.669638  1.671053   \n",
            "1998  1.856476  1.826775  1.801654  ...  1.665750  1.667148  1.668561   \n",
            "1999  1.853704  1.824047  1.798963  ...  1.663261  1.664657  1.666068   \n",
            "2000  1.850929  1.821317  1.796270  ...  1.660771  1.662164  1.663573   \n",
            "\n",
            "         540.0     550.0     560.0     570.0     580.0     590.0     600.0  \n",
            "0     4.083984  4.090427  4.096701  4.102817  4.108783  4.114605  4.120292  \n",
            "1     4.083984  4.090426  4.096701  4.102817  4.108782  4.114605  4.120291  \n",
            "2     4.083982  4.090424  4.096699  4.102815  4.108781  4.114603  4.120290  \n",
            "3     4.083979  4.090421  4.096696  4.102812  4.108778  4.114600  4.120287  \n",
            "4     4.083975  4.090417  4.096692  4.102808  4.108774  4.114596  4.120282  \n",
            "...        ...       ...       ...       ...       ...       ...       ...  \n",
            "1996  1.674974  1.676413  1.677860  1.679312  1.680766  1.682222  1.683677  \n",
            "1997  1.672481  1.673919  1.675363  1.676813  1.678265  1.679718  1.681171  \n",
            "1998  1.669987  1.671422  1.672865  1.674312  1.675762  1.677213  1.678664  \n",
            "1999  1.667492  1.668925  1.670365  1.671810  1.673258  1.674707  1.676155  \n",
            "2000  1.664995  1.666426  1.667864  1.669307  1.670753  1.672199  1.673646  \n",
            "\n",
            "[2001 rows x 61 columns]\n"
          ]
        }
      ]
    },
    {
      "cell_type": "code",
      "source": [
        "#@title Theta(r) v/s Time\n",
        "\n",
        "plt.figure(figsize=(25,7))\n",
        "plt.contourf(time, radius, theta3 , 20, cmap='jet')\n",
        "# plt.contourf(theta3,cmap='jet')\n",
        "plt.title(\"Theta v/s Time at all  radius\")\n",
        "#plt.xlabel(\"Time:300s/30\")\n",
        "#plt.ylabel(\"Radius:10/0.01\")\n",
        "plt.ylabel(\"Radius\")\n",
        "plt.xlabel(\"Time\")\n",
        "# plt.ylim(0,101)\n",
        "plt.xlim(0,600)\n",
        "print(\"BIOT NUMBER:\", bi)\n",
        "plt.colorbar()\n",
        "plt.show()"
      ],
      "metadata": {
        "id": "VK8Y0C1CAF2D",
        "colab": {
          "base_uri": "https://localhost:8080/",
          "height": 476
        },
        "outputId": "f32739bb-ad03-4493-b406-be1240aaf4a5"
      },
      "execution_count": null,
      "outputs": [
        {
          "output_type": "stream",
          "name": "stdout",
          "text": [
            "BIOT NUMBER: 3\n"
          ]
        },
        {
          "output_type": "display_data",
          "data": {
            "text/plain": [
              "<Figure size 1800x504 with 2 Axes>"
            ],
            "image/png": "[encoded data removed]"
          },
          "metadata": {
            "needs_background": "light"
          }
        }
      ]
    },
    {
      "cell_type": "code",
      "source": [
        "plt.figure(figsize=(20,7))\n",
        "plt.title(\"Theta v/s Time\")\n",
        "plt.plot(time[:50],theta3[0,:50])\n",
        "#plt.xlim(0,12)\n",
        "plt.xlabel(\"Time\")\n",
        "plt.ylabel(\"Theta\")\n",
        "print(\"BIOT NUMBER:\", bi)\n",
        "\n",
        "\n",
        "plt.figure(figsize=(20,7))\n",
        "plt.title(\"Theta v/s Radius\")\n",
        "plt.plot(radius,theta3[:,0],label='0s')\n",
        "plt.plot(radius,theta3[:,20],label='200s')\n",
        "plt.plot(radius,theta3[:,30],label='300s')\n",
        "plt.plot(radius,theta3[:,40],label='400s')\n",
        "plt.plot(radius,theta3[:,60],label='600s')\n",
        "plt.xlabel(\"Radius\")\n",
        "plt.ylabel(\"Theta\")\n",
        "plt.legend()"
      ],
      "metadata": {
        "colab": {
          "base_uri": "https://localhost:8080/",
          "height": 936
        },
        "id": "mMr7NpCiCy2z",
        "outputId": "6ff86890-6f8f-426a-c312-48400e3e5f5d"
      },
      "execution_count": null,
      "outputs": [
        {
          "output_type": "stream",
          "name": "stdout",
          "text": [
            "BIOT NUMBER: 3\n"
          ]
        },
        {
          "output_type": "execute_result",
          "data": {
            "text/plain": [
              "<matplotlib.legend.Legend at 0x7f0e480ad550>"
            ]
          },
          "metadata": {},
          "execution_count": 1876
        },
        {
          "output_type": "display_data",
          "data": {
            "text/plain": [
              "<Figure size 1440x504 with 1 Axes>"
            ],
            "image/png": "[encoded data removed]"
          },
          "metadata": {
            "needs_background": "light"
          }
        },
        {
          "output_type": "display_data",
          "data": {
            "text/plain": [
              "<Figure size 1440x504 with 1 Axes>"
            ],
            "image/png": "[encoded data removed]"
          },
          "metadata": {
            "needs_background": "light"
          }
        }
      ]
    },
    {
      "cell_type": "code",
      "source": [
        "#ax = fig.add_subplot(111)\n",
        "#fig.subplots_adjust(bottom=0.2, top=0.75)"
      ],
      "metadata": {
        "id": "8122PA2jYHzm"
      },
      "execution_count": null,
      "outputs": []
    },
    {
      "cell_type": "code",
      "source": [
        "#https://stackoverflow.com/questions/36513312/polar-heatmaps-in-python\n",
        "\n",
        "#azm = np.linspace(0, 2 * np.pi, 91)\n",
        "\n",
        "#r, angle = np.meshgrid(radius, azm)\n",
        "###z = (r ** 2.0) / 4.0\n",
        "#z=theta\n",
        "\n",
        "#plt.subplot(projection=\"polar\")\n",
        "\n",
        "#plt.pcolormesh(angle, r, z)\n",
        "#plt.pcolormesh(th, z, r)\n",
        "\n",
        "#plt.plot(azm, r, color='k', ls='none') \n",
        "#plt.grid()\n",
        "\n",
        "#plt.show()"
      ],
      "metadata": {
        "id": "1nAN6rR099Yk"
      },
      "execution_count": null,
      "outputs": []
    }
  ]
}